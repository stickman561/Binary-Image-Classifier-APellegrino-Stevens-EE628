{
 "cells": [
  {
   "metadata": {},
   "cell_type": "markdown",
   "source": [
    "<font size=\"8\">Data Acquisition, Modeling and Analysis: Deep Learning - Final Project</font>\\\n",
    "<font size=\"6\">Written by Alexander M. Pellegrino</font>\\\n",
    "<font size=\"6\">Under Dr. Rensheng Wang</font>\\\n",
    "<font size=\"6\">On March 30th, 2024</font>"
   ],
   "id": "69809de4c0a38282"
  },
  {
   "metadata": {},
   "cell_type": "code",
   "source": [
    "import tensorflow as tf\n",
    "from keras.src.saving.saving_api import load_model\n",
    "\n",
    "# Load Raw Model\n",
    "model = load_model('ResNet152V2_Cat_Dog_Classifier_E20-val_acc0.9425.keras', compile=False)"
   ],
   "id": "56cfb99d0d72f029",
   "outputs": [],
   "execution_count": null
  },
  {
   "metadata": {},
   "cell_type": "code",
   "source": [
    "# Initialize Converter with Loaded Model\n",
    "converter = tf.lite.TFLiteConverter.from_keras_model(model)\n",
    "converter.optimizations = [tf.lite.Optimize.DEFAULT]"
   ],
   "id": "9b2d0bfd4699b70c",
   "outputs": [],
   "execution_count": null
  },
  {
   "metadata": {},
   "cell_type": "code",
   "source": [
    "# Quantize Model\n",
    "quantized_model = converter.convert()"
   ],
   "id": "1e481d8de3ca8410",
   "outputs": [],
   "execution_count": null
  },
  {
   "metadata": {},
   "cell_type": "code",
   "source": [
    "# Save Quantized Model\n",
    "with open('ResNet152V2_Cat_Dog_Classifier_Unquantized.tflite', 'wb') as f:\n",
    "    f.write(quantized_model)"
   ],
   "id": "3624309495757c4e",
   "outputs": [],
   "execution_count": null
  }
 ],
 "metadata": {
  "kernelspec": {
   "display_name": "Python 3",
   "language": "python",
   "name": "python3"
  },
  "language_info": {
   "codemirror_mode": {
    "name": "ipython",
    "version": 2
   },
   "file_extension": ".py",
   "mimetype": "text/x-python",
   "name": "python",
   "nbconvert_exporter": "python",
   "pygments_lexer": "ipython2",
   "version": "2.7.6"
  }
 },
 "nbformat": 4,
 "nbformat_minor": 5
}
