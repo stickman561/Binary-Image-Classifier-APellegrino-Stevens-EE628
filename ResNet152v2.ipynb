{
 "cells": [
  {
   "cell_type": "markdown",
   "source": [
    "<font size=\"8\">Data Acquisition, Modeling and Analysis: Deep Learning - Final Project</font>\\\n",
    "<font size=\"6\">Written by Alexander M. Pellegrino</font>\\\n",
    "<font size=\"6\">Under Dr. Rensheng Wang</font>\\\n",
    "<font size=\"6\">On March 30th, 2024</font>"
   ],
   "metadata": {
    "collapsed": false
   },
   "id": "379ed9df438d98fb"
  },
  {
   "cell_type": "code",
   "source": [
    "import os\n",
    "import pandas as pd\n",
    "from keras import Model\n",
    "from keras.applications import ResNet152V2\n",
    "from keras.callbacks import ModelCheckpoint\n",
    "from keras.layers import GlobalAveragePooling2D, Dense\n",
    "from keras.preprocessing.image import ImageDataGenerator\n",
    "from keras.applications.resnet_v2 import preprocess_input\n",
    "\n",
    "# Parses Directory for Cat and Dog Images and Labels Them\n",
    "def create_image_dataframe(directory):\n",
    "    files = os.listdir(directory)\n",
    "    \n",
    "    data = {\n",
    "        'file': files,\n",
    "        'label': ['0' if file.startswith('cat') else '1' for file in files]\n",
    "    }\n",
    "    \n",
    "    return pd.DataFrame(data)"
   ],
   "metadata": {
    "collapsed": false
   },
   "id": "94dce9569daad27a",
   "outputs": [],
   "execution_count": null
  },
  {
   "metadata": {},
   "cell_type": "code",
   "source": [
    "# Load Training Set\n",
    "training_data = create_image_dataframe('Training_Set')\n",
    "training_data"
   ],
   "id": "890a17a92c87a144",
   "outputs": [],
   "execution_count": null
  },
  {
   "metadata": {},
   "cell_type": "code",
   "source": [
    "# Load Validation Set\n",
    "validation_data = create_image_dataframe('Validation_Set')\n",
    "validation_data"
   ],
   "id": "a08fe67016b0535b",
   "outputs": [],
   "execution_count": null
  },
  {
   "metadata": {},
   "cell_type": "code",
   "source": [
    "# Set up Data Generators for Training and Test Sets\n",
    "training_data_generator = ImageDataGenerator(preprocessing_function=preprocess_input)\n",
    "validation_data_generator = ImageDataGenerator(preprocessing_function=preprocess_input)\n",
    "\n",
    "# Set up Generator for Training Set\n",
    "training_generator = training_data_generator.flow_from_dataframe(\n",
    "    dataframe=training_data,\n",
    "    directory='Training_Set/',\n",
    "    x_col='file',\n",
    "    y_col='label',\n",
    "    target_size=(224, 224),\n",
    "    batch_size=32,\n",
    "    class_mode='binary',\n",
    "    shuffle=True\n",
    ")"
   ],
   "id": "d0daca299ab44dd2",
   "outputs": [],
   "execution_count": null
  },
  {
   "metadata": {},
   "cell_type": "code",
   "source": [
    "# Set up Generator for Validation Set\n",
    "validation_generator = validation_data_generator.flow_from_dataframe(\n",
    "    dataframe=validation_data,\n",
    "    directory='Validation_Set/',\n",
    "    x_col='file',\n",
    "    y_col='label',\n",
    "    target_size=(224, 224),\n",
    "    batch_size=32,\n",
    "    class_mode='binary',\n",
    "    shuffle=False # Important not to Shuffle Test Set for Validation\n",
    ")"
   ],
   "id": "806966a458e5a80a",
   "outputs": [],
   "execution_count": null
  },
  {
   "metadata": {},
   "cell_type": "code",
   "source": [
    "# Create ResNet152v2 Architecture\n",
    "\n",
    "# Weights can be None for traditional random weight initialization\n",
    "# Or 'imagenet' for a pretrained starting point.\n",
    "\n",
    "# Make sure to set include_top to \"False\" to strip off the pretrained\n",
    "# output layer for 'imagenet' and allow creation of a custom one.\n",
    "base = ResNet152V2(weights=None, include_top=False, input_shape=(224, 224, 3))\n",
    "x = GlobalAveragePooling2D()(base.output)\n",
    "output = Dense(1, activation='sigmoid')(x)\n",
    "model = Model(inputs=base.input, outputs=output)"
   ],
   "id": "722665eedec8f5f6",
   "outputs": [],
   "execution_count": null
  },
  {
   "metadata": {},
   "cell_type": "code",
   "source": [
    "# Set Up Checkpoint Saving During Training\n",
    "checkpoint = ModelCheckpoint(\n",
    "    'ResNet152V2_Cat_Dog_Classifier_E{epoch:02d}-val_acc{val_accuracy:.4f}.keras',\n",
    "    monitor='val_accuracy',\n",
    "    save_best_only=True,\n",
    "    save_weights_only=False,\n",
    "    mode='max',\n",
    "    verbose=False\n",
    ")\n",
    "\n",
    "# Train ResNet152v2\n",
    "model.compile(optimizer='adam', loss='binary_crossentropy', metrics=['accuracy'])\n",
    "\n",
    "history = model.fit(\n",
    "    training_generator,\n",
    "    steps_per_epoch=training_generator.samples // training_generator.batch_size,\n",
    "    epochs=25,\n",
    "    validation_data=validation_generator,\n",
    "    validation_steps=validation_generator.samples // validation_generator.batch_size,\n",
    "    callbacks=[checkpoint]\n",
    ")"
   ],
   "id": "f2b907a639e4bcae",
   "outputs": [],
   "execution_count": null
  },
  {
   "metadata": {},
   "cell_type": "code",
   "source": [
    "# Evaluate Final Model\n",
    "test_loss, test_accuracy = model.evaluate(validation_generator)\n",
    "print(f\"Test Accuracy: {test_accuracy*100:.2f}%\")"
   ],
   "id": "38b84909f4667c96",
   "outputs": [],
   "execution_count": null
  },
  {
   "metadata": {},
   "cell_type": "code",
   "source": [
    "# Set up Data Generator for Final Testing Set\n",
    "test_data_generator = ImageDataGenerator(preprocessing_function=preprocess_input)\n",
    "\n",
    "# Set up Generator for Final Testing Set\n",
    "testing_generator = test_data_generator.flow_from_directory(\n",
    "    directory='test1/',\n",
    "    target_size=(224, 224),\n",
    "    batch_size=32,\n",
    "    class_mode=None, # We don't know the classes yet\n",
    "    shuffle=False # Important not to Shuffle Test Set for Validation\n",
    ")"
   ],
   "id": "c5cbf92b26cbd8d5",
   "outputs": [],
   "execution_count": null
  },
  {
   "metadata": {},
   "cell_type": "code",
   "source": [
    "# Save Results\n",
    "predictions = model.predict(testing_generator)\n",
    "\n",
    "results = pd.DataFrame({\n",
    "    'id': [int(file.split('/')[-1].split('.')[0]) for file in testing_generator.filenames],\n",
    "    'label': predictions.flatten()\n",
    "})\n",
    "\n",
    "results"
   ],
   "id": "14775dd3f7eb46d2",
   "outputs": [],
   "execution_count": null
  },
  {
   "metadata": {},
   "cell_type": "code",
   "source": [
    "# Binarize output - low values pushed to 0, high pushed to 1\n",
    "results['label'] = (results['label'] >= 0.5).astype(int)"
   ],
   "id": "3b040762d67f1825",
   "outputs": [],
   "execution_count": null
  },
  {
   "metadata": {},
   "cell_type": "code",
   "source": [
    "# Sorting outputs to match desired format\n",
    "results.sort_values('id', inplace=True)\n",
    "\n",
    "# Save to file - don't include extra indexing column\n",
    "results.to_csv('Prebuilt_ResNet152v2_Predictions.csv', index=False)"
   ],
   "id": "4de7d5531393dc7",
   "outputs": [],
   "execution_count": null
  }
 ],
 "metadata": {
  "kernelspec": {
   "display_name": "Python 3",
   "language": "python",
   "name": "python3"
  },
  "language_info": {
   "codemirror_mode": {
    "name": "ipython",
    "version": 2
   },
   "file_extension": ".py",
   "mimetype": "text/x-python",
   "name": "python",
   "nbconvert_exporter": "python",
   "pygments_lexer": "ipython2",
   "version": "2.7.6"
  }
 },
 "nbformat": 4,
 "nbformat_minor": 5
}
