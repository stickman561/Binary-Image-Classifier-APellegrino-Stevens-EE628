{
 "cells": [
  {
   "metadata": {},
   "cell_type": "markdown",
   "source": [
    "<font size=\"8\">Data Acquisition, Modeling and Analysis: Deep Learning - Final Project</font>\\\n",
    "<font size=\"6\">Written by Alexander M. Pellegrino</font>\\\n",
    "<font size=\"6\">Under Dr. Rensheng Wang</font>\\\n",
    "<font size=\"6\">On March 30th, 2024</font>"
   ],
   "id": "27fdf1374c79f8c5"
  },
  {
   "metadata": {
    "ExecuteTime": {
     "end_time": "2024-05-05T17:51:05.050992Z",
     "start_time": "2024-05-05T17:51:01.309922Z"
    }
   },
   "cell_type": "code",
   "source": [
    "import io\n",
    "import numpy as np\n",
    "from PIL import Image\n",
    "import tensorflow as tf\n",
    "import ipywidgets as widgets\n",
    "from keras.preprocessing import image\n",
    "#from keras.src.saving.saving_api import load_model\n",
    "from keras.src.applications.resnet_v2 import preprocess_input\n",
    "\n",
    "# Load Quantized (Faster, Inference-Only) Model\n",
    "interpreter = tf.lite.Interpreter(model_path='ResNet152V2_Cat_Dog_Classifier_Unquantized.tflite')\n",
    "interpreter.allocate_tensors()\n",
    "\n",
    "# To Use Raw Model\n",
    "#model = load_model('ResNet152V2_Cat_Dog_Classifier_E20-val_acc0.9425.keras', compile=False)"
   ],
   "id": "4e4cbb3c839beece",
   "outputs": [],
   "execution_count": 106
  },
  {
   "metadata": {},
   "cell_type": "markdown",
   "source": "<font size=\"4\">Comment out the cell below if using the raw model instead of the quantized version.</font>",
   "id": "5bd0d4453cde82ce"
  },
  {
   "metadata": {
    "ExecuteTime": {
     "end_time": "2024-05-05T17:51:05.057557Z",
     "start_time": "2024-05-05T17:51:05.051702Z"
    }
   },
   "cell_type": "code",
   "source": [
    "# Get I/O Information from TFLite Model\n",
    "input_details = interpreter.get_input_details()\n",
    "output_details = interpreter.get_output_details()\n",
    "\n",
    "# Set Expected Input Dimensions\n",
    "input_shape = input_details[0]['shape']"
   ],
   "id": "54580b9d9ef8a49e",
   "outputs": [],
   "execution_count": 107
  },
  {
   "metadata": {},
   "cell_type": "markdown",
   "source": "<font size=\"4\">The following Jupyter Widgets make up the actual frontend of the program and are universal - keep this section as-is regardless of which model is being used.</font>",
   "id": "94b74e96b9de72a5"
  },
  {
   "metadata": {
    "ExecuteTime": {
     "end_time": "2024-05-05T17:51:05.067132Z",
     "start_time": "2024-05-05T17:51:05.058129Z"
    }
   },
   "cell_type": "code",
   "source": [
    "upload_box = widgets.FileUpload(\n",
    "    accept='image/*',  # Only allow image files\n",
    "    multiple=False     # Only allow one file at a time\n",
    ")\n",
    "\n",
    "button = widgets.Button(\n",
    "    description='Process Image',\n",
    "    button_style='info',\n",
    "    tooltip='Click to process image.'\n",
    ")\n",
    "\n",
    "output = widgets.Output()"
   ],
   "id": "caf50f70286b54c0",
   "outputs": [],
   "execution_count": 108
  },
  {
   "metadata": {},
   "cell_type": "markdown",
   "source": "<font size=\"4\">Two variants of process_image function are provided below. Currently, the TFLite model is being used, but to use a full keras model comment out the uncommented version and uncomment the commented out one. Note that the \"b\" parameter is required for the function to be used as a callback by the Button Widget - the underscore marks that it's an unused variable.</font>",
   "id": "f4910f8840cc471c"
  },
  {
   "metadata": {
    "ExecuteTime": {
     "end_time": "2024-05-05T17:51:05.072147Z",
     "start_time": "2024-05-05T17:51:05.067923Z"
    }
   },
   "cell_type": "code",
   "source": [
    "# Use this version for TFLite (Quantized) Model\n",
    "@output.capture(clear_output=True)\n",
    "def process_image(_b):\n",
    "    if not upload_box.value:\n",
    "        print(\"No file uploaded.\")\n",
    "        return\n",
    "    \n",
    "    input_file = upload_box.value[0]\n",
    "    print(f\"Loading {input_file['name']}...\")\n",
    "    \n",
    "    try:\n",
    "        input_image = Image.open(io.BytesIO(input_file['content']))\n",
    "        print(f\"{input_file['name']} opened successfully.\")\n",
    "        \n",
    "    except Exception as e:\n",
    "        print(f\"Failed to open image: {e}\")\n",
    "        return\n",
    "\n",
    "    print(\"Preforming preprocessing on image...\")\n",
    "    try:\n",
    "        input_image = input_image.resize((input_shape[1], input_shape[2]))\n",
    "        image_array = image.img_to_array(input_image)\n",
    "        preprocess_input(image_array)\n",
    "        image_array = np.expand_dims(image_array, axis=0)\n",
    "        print(\"Image preprocessing completed successfully.\")\n",
    "        \n",
    "    except Exception as e:\n",
    "        print(f\"Error in image preprocessing: {e}\")\n",
    "        return\n",
    "\n",
    "    print(\"Analyzing...\")\n",
    "\n",
    "    # Ensure the input type matches the model's input type\n",
    "    image_array = image_array.astype(input_details[0]['dtype'])\n",
    "\n",
    "    # Point the TFLite Input Tensors to the input data\n",
    "    interpreter.set_tensor(input_details[0]['index'], image_array)\n",
    "\n",
    "    # Run Inference\n",
    "    interpreter.invoke()\n",
    "\n",
    "    # Read Output Tensors\n",
    "    output_data = interpreter.get_tensor(output_details[0]['index'])\n",
    "\n",
    "    # Binary Classification Output\n",
    "    prediction = output_data[0][0]\n",
    "    print(prediction)\n",
    "    if prediction > 0.5:\n",
    "        print(\"You Uploaded a Dog\")\n",
    "    else:\n",
    "        print(\"You Uploaded a Cat\")\n",
    "\n",
    "# Use this version for Raw Model\n",
    "# @output.capture(clear_output=True)\n",
    "# def process_image(_b):\n",
    "#     if not upload_box.value:\n",
    "#         print(\"No file uploaded.\")\n",
    "#         return\n",
    "#     \n",
    "#     input_file = next(iter(upload_box.value.values()))\n",
    "#     \n",
    "#     input_image = Image.open(input_file['content'])\n",
    "#     input_image = input_image.resize((224, 224))\n",
    "#     image_array = image.img_to_array(input_image)\n",
    "#     image_array = np.expand_dims(image_array, axis=0)\n",
    "#     \n",
    "#     prediction = model.predict(image_array)\n",
    "#     # Output the raw prediction or probability\n",
    "#     if prediction > 0.5:\n",
    "#         print(\"You Uploaded a Dog\")\n",
    "#     else:\n",
    "#         print(\"You Uploaded a Cat\")"
   ],
   "id": "79380e99b7f37c2b",
   "outputs": [],
   "execution_count": 109
  },
  {
   "metadata": {
    "ExecuteTime": {
     "end_time": "2024-05-05T17:51:05.076875Z",
     "start_time": "2024-05-05T17:51:05.073009Z"
    }
   },
   "cell_type": "code",
   "source": [
    "button.on_click(process_image)\n",
    "\n",
    "display(upload_box)\n",
    "display(button)\n",
    "display(output)"
   ],
   "id": "74b900332f13c38b",
   "outputs": [
    {
     "data": {
      "text/plain": [
       "FileUpload(value=(), accept='image/*', description='Upload')"
      ],
      "application/vnd.jupyter.widget-view+json": {
       "version_major": 2,
       "version_minor": 0,
       "model_id": "90da3e6569b046ac93c918012ac2997a"
      }
     },
     "metadata": {},
     "output_type": "display_data"
    },
    {
     "data": {
      "text/plain": [
       "Button(button_style='info', description='Process Image', style=ButtonStyle(), tooltip='Click to process image.…"
      ],
      "application/vnd.jupyter.widget-view+json": {
       "version_major": 2,
       "version_minor": 0,
       "model_id": "75122af6b7b94ab6acf056ba13ddf9e9"
      }
     },
     "metadata": {},
     "output_type": "display_data"
    },
    {
     "data": {
      "text/plain": [
       "Output()"
      ],
      "application/vnd.jupyter.widget-view+json": {
       "version_major": 2,
       "version_minor": 0,
       "model_id": "bd71fb2c0b7b407ba2e49dbf815d051f"
      }
     },
     "metadata": {},
     "output_type": "display_data"
    }
   ],
   "execution_count": 110
  }
 ],
 "metadata": {
  "kernelspec": {
   "display_name": "Python 3",
   "language": "python",
   "name": "python3"
  },
  "language_info": {
   "codemirror_mode": {
    "name": "ipython",
    "version": 2
   },
   "file_extension": ".py",
   "mimetype": "text/x-python",
   "name": "python",
   "nbconvert_exporter": "python",
   "pygments_lexer": "ipython2",
   "version": "2.7.6"
  }
 },
 "nbformat": 4,
 "nbformat_minor": 5
}
